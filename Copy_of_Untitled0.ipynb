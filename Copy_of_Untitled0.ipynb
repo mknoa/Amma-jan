{
  "nbformat": 4,
  "nbformat_minor": 0,
  "metadata": {
    "colab": {
      "provenance": [],
      "authorship_tag": "ABX9TyPO2CBR0/kODHTPcpvVrxrG",
      "include_colab_link": true
    },
    "kernelspec": {
      "name": "python3",
      "display_name": "Python 3"
    },
    "language_info": {
      "name": "python"
    }
  },
  "cells": [
    {
      "cell_type": "markdown",
      "metadata": {
        "id": "view-in-github",
        "colab_type": "text"
      },
      "source": [
        "<a href=\"https://colab.research.google.com/github/mknoa/Amma-jan/blob/main/Copy_of_Untitled0.ipynb\" target=\"_parent\"><img src=\"https://colab.research.google.com/assets/colab-badge.svg\" alt=\"Open In Colab\"/></a>"
      ]
    },
    {
      "cell_type": "markdown",
      "source": [
        "Data type formating **bold text**"
      ],
      "metadata": {
        "id": "0qIozGS1sU3y"
      }
    },
    {
      "cell_type": "code",
      "source": [
        "num1=20\n",
        "num2=30\n",
        "print(num1+num2)"
      ],
      "metadata": {
        "colab": {
          "base_uri": "https://localhost:8080/"
        },
        "id": "nJROGOb2sbyX",
        "outputId": "9d35d5d7-ca2a-4cce-90d4-d86e19aacdf8"
      },
      "execution_count": null,
      "outputs": [
        {
          "output_type": "stream",
          "name": "stdout",
          "text": [
            "50\n"
          ]
        }
      ]
    },
    {
      "cell_type": "code",
      "source": [
        "print(f\"{num1}+{num2}={num1+num2}\")"
      ],
      "metadata": {
        "colab": {
          "base_uri": "https://localhost:8080/"
        },
        "id": "r1IAgCZxs7w-",
        "outputId": "b59088b9-bb6d-46d8-951a-4ad28d253d15"
      },
      "execution_count": null,
      "outputs": [
        {
          "output_type": "stream",
          "name": "stdout",
          "text": [
            "20+30=50\n"
          ]
        }
      ]
    },
    {
      "cell_type": "code",
      "source": [
        "print(\"monzurulKarim\")\n",
        "print(\"018220459\")"
      ],
      "metadata": {
        "colab": {
          "base_uri": "https://localhost:8080/"
        },
        "id": "n_6HcLwHtwgu",
        "outputId": "5a6360b7-cdde-4959-ae90-8b4f3aaeac2a"
      },
      "execution_count": null,
      "outputs": [
        {
          "output_type": "stream",
          "name": "stdout",
          "text": [
            "monzurulKarim\n",
            "018220459\n"
          ]
        }
      ]
    },
    {
      "cell_type": "code",
      "source": [
        "print(\"monzurulKarim\",end=\"  \")\n",
        "print(\"018220459\")"
      ],
      "metadata": {
        "colab": {
          "base_uri": "https://localhost:8080/"
        },
        "id": "Ip498EazuIes",
        "outputId": "51195c54-79ba-4172-e123-953d26e3b76a"
      },
      "execution_count": null,
      "outputs": [
        {
          "output_type": "stream",
          "name": "stdout",
          "text": [
            "monzurulKarim  018220459\n"
          ]
        }
      ]
    },
    {
      "cell_type": "markdown",
      "source": [
        "Take input of length and width of a rectangle and check whether it is Square or not."
      ],
      "metadata": {
        "id": "eluFocrnqP8Z"
      }
    },
    {
      "cell_type": "code",
      "source": [
        "num1= int(input(\"first Intiger :\"))\n",
        "num2=int(input(\"second Intiger :\"))\n",
        "num3=int(input(\"third Intiger :\"))\n",
        "if (num1>num2)and (num1>num3):\n",
        "    largest=num1\n",
        "elif (num2>num1)and(num2>num3):\n",
        "    largest=num2\n",
        "else:\n",
        "    largest=num3\n",
        "print(\"the largest number is\",largest)\n",
        "\n",
        "\n"
      ],
      "metadata": {
        "colab": {
          "base_uri": "https://localhost:8080/"
        },
        "id": "o4f4FGymRwgo",
        "outputId": "708e1fa3-8a2f-4edb-c197-e4ce7fc6b9cd"
      },
      "execution_count": null,
      "outputs": [
        {
          "output_type": "stream",
          "name": "stdout",
          "text": [
            "first Intiger :50\n",
            "second Intiger :49\n",
            "third Intiger :39\n",
            "the largest number is 50\n"
          ]
        }
      ]
    },
    {
      "cell_type": "markdown",
      "source": [
        "student attending less than 75% of class held will not be allowed to sit for the exame."
      ],
      "metadata": {
        "id": "MTMKhVEqZnMn"
      }
    },
    {
      "cell_type": "code",
      "source": [
        "class_held= float(input(\"Number of Classes held :\"))\n",
        "attendence= float(input(\"Number of Classes attended :\"))\n",
        "attendence_ratio=(attendence/class_held) *100\n",
        "if attendence_ratio >= 75:\n",
        "  print(attendence_ratio)\n",
        "  print(\"Allowed\")\n",
        "else:\n",
        "  print(attendence_ratio)\n",
        "  print(\"Not Allowed\")"
      ],
      "metadata": {
        "colab": {
          "base_uri": "https://localhost:8080/"
        },
        "id": "ByLMrdycZ79E",
        "outputId": "1bfd233e-4bc6-4769-80b3-7a985c6b955f"
      },
      "execution_count": null,
      "outputs": [
        {
          "output_type": "stream",
          "name": "stdout",
          "text": [
            "Number of Classes held :120\n",
            "Number of Classes attended :75\n",
            "62.5\n",
            "Not Allowed\n"
          ]
        }
      ]
    },
    {
      "cell_type": "markdown",
      "source": [
        "Rules for Greading System:"
      ],
      "metadata": {
        "id": "F5KRkEwbfuuy"
      }
    },
    {
      "cell_type": "code",
      "source": [
        "marks=float(input(\"Enter your Marks:\"))\n",
        "if marks <= 25:\n",
        "  print(\"Grade F\")\n",
        "elif marks>=26 and marks<=35:\n",
        "  print(\"Crash Mark Grade E\")\n",
        "elif marks>=36 and marks<=45:\n",
        "  print(\"Grade- D Pass\")\n",
        "elif marks>=46 and marks<=55:\n",
        "  print(\"Grade C\")\n",
        "elif marks>=56 and marks<=65:\n",
        "  print(\"Grade B\")\n",
        "elif marks>=66 and marks<=75:\n",
        "  print(\"Grade A\")\n",
        "else:\n",
        "  print(\"grade A+\")\n",
        "  \n",
        "  "
      ],
      "metadata": {
        "id": "6NTtVzlRndzq"
      },
      "execution_count": null,
      "outputs": []
    },
    {
      "cell_type": "markdown",
      "source": [
        "For loop"
      ],
      "metadata": {
        "id": "S-xqjCNorxR4"
      }
    },
    {
      "cell_type": "code",
      "source": [
        "letters = \"Monzurul karim\"\n",
        "for x in letters:\n",
        "  print(x)"
      ],
      "metadata": {
        "colab": {
          "base_uri": "https://localhost:8080/"
        },
        "id": "25fX9p0Fr0yI",
        "outputId": "7d9fb6e4-11b4-4bf3-bc41-f0d07d3924ea"
      },
      "execution_count": null,
      "outputs": [
        {
          "output_type": "stream",
          "name": "stdout",
          "text": [
            "M\n",
            "o\n",
            "n\n",
            "z\n",
            "u\n",
            "r\n",
            "u\n",
            "l\n",
            " \n",
            "k\n",
            "a\n",
            "r\n",
            "i\n",
            "m\n"
          ]
        }
      ]
    },
    {
      "cell_type": "markdown",
      "source": [],
      "metadata": {
        "id": "6_-yIdvor6TD"
      }
    },
    {
      "cell_type": "code",
      "source": [
        "marks=[40,45,60,55,70,]\n",
        "for x in marks:\n",
        "  print(x)"
      ],
      "metadata": {
        "colab": {
          "base_uri": "https://localhost:8080/"
        },
        "id": "zV2qasONoG0E",
        "outputId": "b4303a6a-2412-4c74-b411-fd2e98a9a8d1"
      },
      "execution_count": null,
      "outputs": [
        {
          "output_type": "stream",
          "name": "stdout",
          "text": [
            "40\n",
            "45\n",
            "60\n",
            "55\n",
            "70\n"
          ]
        }
      ]
    },
    {
      "cell_type": "code",
      "source": [
        "marks=[40,45,60,55,70,]\n",
        "total=0\n",
        "for x in marks:\n",
        "    total=total+x\n",
        "    print(total,x)\n",
        "print(total)   "
      ],
      "metadata": {
        "colab": {
          "base_uri": "https://localhost:8080/"
        },
        "id": "gx51kDfsrTzh",
        "outputId": "a67f5a83-2b7d-4ba9-a1df-dca04de05bd6"
      },
      "execution_count": null,
      "outputs": [
        {
          "output_type": "stream",
          "name": "stdout",
          "text": [
            "40 40\n",
            "85 45\n",
            "145 60\n",
            "200 55\n",
            "270 70\n",
            "270\n"
          ]
        }
      ]
    },
    {
      "cell_type": "code",
      "source": [
        "for i in range(10,100,20):\n",
        "\n",
        "  print(i,'flex')"
      ],
      "metadata": {
        "colab": {
          "base_uri": "https://localhost:8080/"
        },
        "id": "xt7O57x2xDcY",
        "outputId": "0da1b400-9f7e-403d-a685-01f270de8df5"
      },
      "execution_count": null,
      "outputs": [
        {
          "output_type": "stream",
          "name": "stdout",
          "text": [
            "10 flex\n",
            "30 flex\n",
            "50 flex\n",
            "70 flex\n",
            "90 flex\n"
          ]
        }
      ]
    },
    {
      "cell_type": "code",
      "source": [
        "for x in range (10,1001,10):\n",
        "sum=0,\n",
        "  "
      ],
      "metadata": {
        "id": "12u6ZiCG2zYH"
      },
      "execution_count": null,
      "outputs": []
    },
    {
      "cell_type": "code",
      "source": [
        "hall=11.25\n",
        "kit=8.25\n",
        "bed=13.10\n",
        "liv=10.25\n",
        "bath=6.5\n",
        "areas=[hall,kit,bed,liv,bath]\n",
        "print(\"List of area\",\"=\",areas)"
      ],
      "metadata": {
        "colab": {
          "base_uri": "https://localhost:8080/"
        },
        "id": "gp_KiyH2NDRf",
        "outputId": "9c1ceff5-37d8-44e1-b62a-dd23d2c3c761"
      },
      "execution_count": null,
      "outputs": [
        {
          "output_type": "stream",
          "name": "stdout",
          "text": [
            "List of area = [11.25, 8.25, 13.1, 10.25, 6.5]\n"
          ]
        }
      ]
    },
    {
      "cell_type": "code",
      "source": [
        "number=int(input(\"enter the number :\"))\n",
        "for count in range(1,11):\n",
        "  product=(number*count)\n",
        "  print(number,\"X\",count, \"=\",product)"
      ],
      "metadata": {
        "colab": {
          "base_uri": "https://localhost:8080/"
        },
        "id": "6iv5T7d0t4QG",
        "outputId": "6cc59384-db46-449a-8ee0-d9cd9383c239"
      },
      "execution_count": null,
      "outputs": [
        {
          "output_type": "stream",
          "name": "stdout",
          "text": [
            "enter the number :6\n",
            "6 X 1 = 6\n",
            "6 X 2 = 12\n",
            "6 X 3 = 18\n",
            "6 X 4 = 24\n",
            "6 X 5 = 30\n",
            "6 X 6 = 36\n",
            "6 X 7 = 42\n",
            "6 X 8 = 48\n",
            "6 X 9 = 54\n",
            "6 X 10 = 60\n"
          ]
        }
      ]
    },
    {
      "cell_type": "code",
      "source": [
        "number=int(input(\"enter Number :\"))\n",
        "for count in range(6):\n",
        "  sum=number+count\n",
        "  if count==4:break\n",
        "  else:\n",
        "    print(\"finished\")\n",
        "  print(\"the sum is\",sum)"
      ],
      "metadata": {
        "colab": {
          "base_uri": "https://localhost:8080/"
        },
        "id": "8TWqEsJNvU7Y",
        "outputId": "121cee6b-11b5-49f4-efd9-e54ffd218207"
      },
      "execution_count": null,
      "outputs": [
        {
          "output_type": "stream",
          "name": "stdout",
          "text": [
            "enter Number :5\n",
            "finished\n",
            "the sum is 5\n",
            "finished\n",
            "the sum is 6\n",
            "finished\n",
            "the sum is 7\n",
            "finished\n",
            "the sum is 8\n"
          ]
        }
      ]
    },
    {
      "cell_type": "code",
      "source": [
        "nums=(2,4,6,8,)\n",
        "sum_num=0\n",
        "for num in nums:\n",
        "  sum_num=sum_num+num\n",
        "  #print(num)\n",
        "  print(sum_num)"
      ],
      "metadata": {
        "colab": {
          "base_uri": "https://localhost:8080/"
        },
        "id": "ROalDamMCEND",
        "outputId": "5108a385-44b7-48a1-8e14-6f67eca835b3"
      },
      "execution_count": null,
      "outputs": [
        {
          "output_type": "stream",
          "name": "stdout",
          "text": [
            "2\n",
            "6\n",
            "12\n",
            "20\n"
          ]
        }
      ]
    },
    {
      "cell_type": "code",
      "source": [
        "i=0\n",
        "while i<11:\n",
        "  print(i)\n",
        "  i+=1\n"
      ],
      "metadata": {
        "colab": {
          "base_uri": "https://localhost:8080/"
        },
        "id": "tSGqN4BUNrNA",
        "outputId": "ebc02f19-0527-4c89-c814-3793d2201724"
      },
      "execution_count": null,
      "outputs": [
        {
          "output_type": "stream",
          "name": "stdout",
          "text": [
            "0\n",
            "1\n",
            "2\n",
            "3\n",
            "4\n",
            "5\n",
            "6\n",
            "7\n",
            "8\n",
            "9\n",
            "10\n"
          ]
        }
      ]
    },
    {
      "cell_type": "code",
      "source": [
        "\n",
        "i=0\n",
        "while i<11:\n",
        "  print(i)\n",
        "  if i ==6:\n",
        "    break\n",
        "  else:\n",
        "    print('Alright')\n",
        "    i+=1\n",
        "  \n",
        "\n",
        "  "
      ],
      "metadata": {
        "colab": {
          "base_uri": "https://localhost:8080/"
        },
        "id": "KVqzeemgN8GV",
        "outputId": "0f8e2fa6-7057-43c9-f7be-fb039d399167"
      },
      "execution_count": null,
      "outputs": [
        {
          "output_type": "stream",
          "name": "stdout",
          "text": [
            "0\n",
            "Alright\n",
            "1\n",
            "Alright\n",
            "2\n",
            "Alright\n",
            "3\n",
            "Alright\n",
            "4\n",
            "Alright\n",
            "5\n",
            "Alright\n",
            "6\n"
          ]
        }
      ]
    },
    {
      "cell_type": "code",
      "source": [
        "for i in range(11):\n",
        "  print(i)\n",
        " \n",
        "\n"
      ],
      "metadata": {
        "colab": {
          "base_uri": "https://localhost:8080/"
        },
        "id": "2BJFpn4IPNXc",
        "outputId": "de0075a5-73ad-406f-9dc7-9a41cf01b256"
      },
      "execution_count": null,
      "outputs": [
        {
          "output_type": "stream",
          "name": "stdout",
          "text": [
            "0\n",
            "1\n",
            "2\n",
            "3\n",
            "4\n",
            "5\n",
            "6\n",
            "7\n",
            "8\n",
            "9\n",
            "10\n"
          ]
        }
      ]
    },
    {
      "cell_type": "code",
      "source": [
        "number1=105\n",
        "number2=185\n",
        "print(number1 if number1>number2 else number2)"
      ],
      "metadata": {
        "id": "_lH437jEW65b",
        "colab": {
          "base_uri": "https://localhost:8080/"
        },
        "outputId": "dac9ee2e-4868-46d4-c1c3-b60cde9d314c"
      },
      "execution_count": null,
      "outputs": [
        {
          "output_type": "stream",
          "name": "stdout",
          "text": [
            "185\n"
          ]
        }
      ]
    },
    {
      "cell_type": "code",
      "source": [
        "num1=-185\n",
        "num2=-90\n",
        "num3=-10\n",
        "if num1 > num2 and num1 > num3:\n",
        "  print(\"Number 1 :\",num1)\n",
        "elif num2>num1 and num2>num3:\n",
        "  print(\"Number 2 :\",num2)\n",
        "else:\n",
        "  print(\"Number 3 :\",num3)\n"
      ],
      "metadata": {
        "colab": {
          "base_uri": "https://localhost:8080/"
        },
        "id": "x3ylRXt_Z3LE",
        "outputId": "66911185-01a9-402b-d025-9a25d8c4ecc3"
      },
      "execution_count": null,
      "outputs": [
        {
          "output_type": "stream",
          "name": "stdout",
          "text": [
            "Number 3 : -10\n"
          ]
        }
      ]
    },
    {
      "cell_type": "markdown",
      "source": [],
      "metadata": {
        "id": "uU2ik8U8cJfU"
      }
    },
    {
      "cell_type": "code",
      "source": [
        "check=\"a\"\n",
        "if check=='a' or check=='e' or check=='i'or check=='o'or check=='u':\n",
        "  print(\"the letter is a Vowal\")\n",
        "else:\n",
        "  print(\"the letter is a consonent\")"
      ],
      "metadata": {
        "colab": {
          "base_uri": "https://localhost:8080/"
        },
        "id": "aS3HBjiHbUG6",
        "outputId": "e1b723f2-76aa-4a4a-aaed-153e4003d23e"
      },
      "execution_count": null,
      "outputs": [
        {
          "output_type": "stream",
          "name": "stdout",
          "text": [
            "the letter is a Vowal\n"
          ]
        }
      ]
    },
    {
      "cell_type": "code",
      "source": [
        "marks=int(input(\"Enter the Marks:\"))\n",
        "if marks>=81 and marks<=100:\n",
        "  print(\"You have achieved A+\")\n",
        "elif marks>71 and marks<=80:\n",
        "  print(\"You have achieved A\")\n",
        "elif marks>60 and marks<=70:\n",
        "  print(\"You have achieved A-\")"
      ],
      "metadata": {
        "colab": {
          "base_uri": "https://localhost:8080/"
        },
        "id": "JJEedH2sXtDy",
        "outputId": "59f2c5e0-a734-44cf-d6d6-854cb6590196"
      },
      "execution_count": null,
      "outputs": [
        {
          "output_type": "stream",
          "name": "stdout",
          "text": [
            "Enter the Marks:89\n",
            "You have achieved A+\n"
          ]
        }
      ]
    },
    {
      "cell_type": "code",
      "source": [
        "i=1\n",
        "while i<=50:\n",
        "  print(i)\n",
        "  i=i+5\n",
        "print(\"end\")  \n"
      ],
      "metadata": {
        "colab": {
          "base_uri": "https://localhost:8080/"
        },
        "id": "Ohn_zw4tJNqS",
        "outputId": "c950bb2c-da15-4c64-a305-8e2a7a626b49"
      },
      "execution_count": null,
      "outputs": [
        {
          "output_type": "stream",
          "name": "stdout",
          "text": [
            "1\n",
            "6\n",
            "11\n",
            "16\n",
            "21\n",
            "26\n",
            "31\n",
            "36\n",
            "41\n",
            "46\n",
            "end\n"
          ]
        }
      ]
    },
    {
      "cell_type": "code",
      "source": [
        "n=int(input(\"Enter the limit:\"))\n",
        "sum=0\n",
        "i=1\n",
        "while i<=n:\n",
        "  sum=sum+i\n",
        "  #print(i)\n",
        "  i=i+2\n",
        "  print(\"total:\",sum)\n",
        "print(\"the total is:\",sum)"
      ],
      "metadata": {
        "colab": {
          "base_uri": "https://localhost:8080/"
        },
        "id": "u4Cdfb34wNHc",
        "outputId": "1b9b70ae-fa41-4b43-a8e1-3a40b413afc1"
      },
      "execution_count": null,
      "outputs": [
        {
          "output_type": "stream",
          "name": "stdout",
          "text": [
            "Enter the limit:20\n",
            "total: 1\n",
            "total: 4\n",
            "total: 9\n",
            "total: 16\n",
            "total: 25\n",
            "total: 36\n",
            "total: 49\n",
            "total: 64\n",
            "total: 81\n",
            "total: 100\n",
            "the total is: 100\n"
          ]
        }
      ]
    },
    {
      "cell_type": "markdown",
      "source": [
        "Three Parts of While loop are: Initilization: Loop Starting Point;\n",
        "Condition : How far the Loop will be true ? i.e. The Limit of running the Loop;Incrimental or dicrimental, i.e.How the body of the loop will be changed ?"
      ],
      "metadata": {
        "id": "X9HcgrNr0RFM"
      }
    },
    {
      "cell_type": "code",
      "source": [],
      "metadata": {
        "id": "ShcWjgLwwNOd"
      },
      "execution_count": null,
      "outputs": []
    },
    {
      "cell_type": "code",
      "source": [
        "number=int(input(\"give the number:\"))\n",
        "i=10\n",
        "while i>=1:\n",
        "  product=number*i\n",
        "  print(number,\"X\",i,\"=\",product)\n",
        "  i=i-1"
      ],
      "metadata": {
        "colab": {
          "base_uri": "https://localhost:8080/"
        },
        "id": "DwAwrjEjwJa1",
        "outputId": "4cccce56-152a-4a2d-d03a-517bf0ad6335"
      },
      "execution_count": null,
      "outputs": [
        {
          "output_type": "stream",
          "name": "stdout",
          "text": [
            "give the number:3\n",
            "3 X 10 = 30\n",
            "3 X 9 = 27\n",
            "3 X 8 = 24\n",
            "3 X 7 = 21\n",
            "3 X 6 = 18\n",
            "3 X 5 = 15\n",
            "3 X 4 = 12\n",
            "3 X 3 = 9\n",
            "3 X 2 = 6\n"
          ]
        }
      ]
    },
    {
      "cell_type": "code",
      "source": [
        "num=int(input(\"enter a number\"))\n",
        "count=1\n",
        "while count <=10:\n",
        "  product=num*count\n",
        "  print(num,\"X\",count,\"=\",product)\n",
        "  count=count+1"
      ],
      "metadata": {
        "colab": {
          "base_uri": "https://localhost:8080/"
        },
        "id": "MVRaKHWz3jwG",
        "outputId": "1dcb7982-326e-4ec7-a542-ca844a05cc5b"
      },
      "execution_count": null,
      "outputs": [
        {
          "output_type": "stream",
          "name": "stdout",
          "text": [
            "enter a number10\n",
            "10 X 1 = 10\n",
            "10 X 2 = 20\n",
            "10 X 3 = 30\n",
            "10 X 4 = 40\n",
            "10 X 5 = 50\n",
            "10 X 6 = 60\n",
            "10 X 7 = 70\n",
            "10 X 8 = 80\n",
            "10 X 9 = 90\n",
            "10 X 10 = 100\n"
          ]
        }
      ]
    },
    {
      "cell_type": "code",
      "source": [
        "languages=[\"python\",\"java\",\"swift\",\"C\",\"C++\"]\n",
        "for language in languages:\n",
        "  if language==\"swift\":\n",
        "    break\n",
        "  print(language)"
      ],
      "metadata": {
        "colab": {
          "base_uri": "https://localhost:8080/"
        },
        "id": "QEz7jjlL65IX",
        "outputId": "a7e353be-d911-4607-fc1d-b7dba72d31b3"
      },
      "execution_count": null,
      "outputs": [
        {
          "output_type": "stream",
          "name": "stdout",
          "text": [
            "python\n",
            "java\n"
          ]
        }
      ]
    },
    {
      "cell_type": "code",
      "source": [
        "languages=[\"python\",\"java\",\"swift\",\"C\",\"C++\"]\n",
        "for language in languages:\n",
        "  if language==\"swift\":\n",
        "    continue\n",
        "  if language == \"C++\":\n",
        "    break\n",
        "  print(language)"
      ],
      "metadata": {
        "id": "-3IIWHTx8yfD",
        "colab": {
          "base_uri": "https://localhost:8080/"
        },
        "outputId": "52bf7b12-0147-4db7-c2b1-60c1f1ee3cb0"
      },
      "execution_count": null,
      "outputs": [
        {
          "output_type": "stream",
          "name": "stdout",
          "text": [
            "python\n",
            "java\n",
            "C\n"
          ]
        }
      ]
    },
    {
      "cell_type": "code",
      "source": [
        "sum=0\n",
        "i=1\n",
        "while i <=10 :\n",
        "  sum=sum+i\n",
        "  i+=1\n",
        "  print(sum)"
      ],
      "metadata": {
        "colab": {
          "base_uri": "https://localhost:8080/"
        },
        "id": "tXJX7TjZWjlx",
        "outputId": "dc0ca121-76c3-4807-8c2e-d8cdb4edc822"
      },
      "execution_count": null,
      "outputs": [
        {
          "output_type": "stream",
          "name": "stdout",
          "text": [
            "1\n",
            "3\n",
            "6\n",
            "10\n",
            "15\n",
            "21\n",
            "28\n",
            "36\n",
            "45\n",
            "55\n"
          ]
        }
      ]
    },
    {
      "cell_type": "code",
      "source": [
        "sum=0\n",
        "i=0\n",
        "while i <=10:\n",
        "  sum=sum+i\n",
        "  i+=1\n",
        "print(sum)\n",
        "\n",
        "\n"
      ],
      "metadata": {
        "colab": {
          "base_uri": "https://localhost:8080/"
        },
        "id": "rmb9ZGU_Ye_b",
        "outputId": "75c4d0e4-e040-439e-deb6-57c229cd4ce7"
      },
      "execution_count": null,
      "outputs": [
        {
          "output_type": "stream",
          "name": "stdout",
          "text": [
            "55\n"
          ]
        }
      ]
    }
  ]
}